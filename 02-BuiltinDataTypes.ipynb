{
 "cells": [
  {
   "cell_type": "markdown",
   "metadata": {},
   "source": [
    "# Basic Data Types\n",
    "\n",
    "The Python language has built-in support for a number of data types. Here we'll present a few of them."
   ]
  },
  {
   "cell_type": "markdown",
   "metadata": {},
   "source": [
    "## The `bool` type\n",
    "\n",
    "Boolean values are used to represent truth values. Booleans can have only two values: `True` or `False`."
   ]
  },
  {
   "cell_type": "code",
   "execution_count": null,
   "metadata": {},
   "outputs": [],
   "source": [
    "True == True"
   ]
  },
  {
   "cell_type": "code",
   "execution_count": null,
   "metadata": {},
   "outputs": [],
   "source": [
    "True == False"
   ]
  },
  {
   "cell_type": "code",
   "execution_count": null,
   "metadata": {},
   "outputs": [],
   "source": [
    "False == False"
   ]
  },
  {
   "cell_type": "code",
   "execution_count": null,
   "metadata": {},
   "outputs": [],
   "source": [
    "5 > 3"
   ]
  },
  {
   "cell_type": "code",
   "execution_count": null,
   "metadata": {},
   "outputs": [],
   "source": [
    "-2 < 1"
   ]
  },
  {
   "cell_type": "code",
   "execution_count": null,
   "metadata": {},
   "outputs": [],
   "source": [
    "x = 5 > 3\n",
    "print('Value of x:', x)\n",
    "print('Type of x:', type(x))"
   ]
  },
  {
   "cell_type": "markdown",
   "metadata": {},
   "source": [
    "**In Python anything can be converted to a boolean**"
   ]
  },
  {
   "cell_type": "code",
   "execution_count": null,
   "metadata": {},
   "outputs": [],
   "source": [
    "bool(1)"
   ]
  },
  {
   "cell_type": "code",
   "execution_count": null,
   "metadata": {},
   "outputs": [],
   "source": [
    "bool(0)"
   ]
  },
  {
   "cell_type": "code",
   "execution_count": null,
   "metadata": {},
   "outputs": [],
   "source": [
    "bool(-10)"
   ]
  },
  {
   "cell_type": "code",
   "execution_count": null,
   "metadata": {},
   "outputs": [],
   "source": [
    "bool(0.0)"
   ]
  },
  {
   "cell_type": "code",
   "execution_count": null,
   "metadata": {},
   "outputs": [],
   "source": [
    "bool(3.14156)"
   ]
  },
  {
   "cell_type": "code",
   "execution_count": null,
   "metadata": {},
   "outputs": [],
   "source": [
    "bool('Hello')  # Is there anything in this string? Yes."
   ]
  },
  {
   "cell_type": "code",
   "execution_count": null,
   "metadata": {},
   "outputs": [],
   "source": [
    "bool('')  # Is there anything in this string? No."
   ]
  },
  {
   "cell_type": "code",
   "execution_count": null,
   "metadata": {},
   "outputs": [],
   "source": [
    "bool([1, 2, 3])  # Is there anything in this list? Yes."
   ]
  },
  {
   "cell_type": "code",
   "execution_count": null,
   "metadata": {},
   "outputs": [],
   "source": [
    "bool([])  # Is there anything in this list? No."
   ]
  },
  {
   "cell_type": "code",
   "execution_count": null,
   "metadata": {},
   "outputs": [],
   "source": [
    "bool(print)  # Even a function can be converted to a boolean.\n",
    "             # But why would you do that?\n",
    "             # Well, Python gives you the power!\n",
    "             # You just have to learn how to use it! ;-)"
   ]
  },
  {
   "cell_type": "code",
   "execution_count": null,
   "metadata": {
    "scrolled": true
   },
   "outputs": [],
   "source": [
    "help(bool)  # If you want to know more about the bool type,\n",
    "            # here's the docummentation for it. As you can see,\n",
    "            # a bool is a special case of an int, which can have\n",
    "            # only two possible values, 1 or 0, i.e., True or False."
   ]
  },
  {
   "cell_type": "markdown",
   "metadata": {},
   "source": [
    "## The `int` type\n",
    "\n",
    "Interger numbers are implemented by the `int` type."
   ]
  },
  {
   "cell_type": "code",
   "execution_count": null,
   "metadata": {},
   "outputs": [],
   "source": [
    "b = 42\n",
    "print(b)"
   ]
  },
  {
   "cell_type": "code",
   "execution_count": null,
   "metadata": {},
   "outputs": [],
   "source": [
    "print(dir(b))"
   ]
  },
  {
   "cell_type": "code",
   "execution_count": null,
   "metadata": {
    "collapsed": true
   },
   "outputs": [],
   "source": [
    "# So, what's all that?\n",
    "# Those __XXX__ are called Python's magic methods.\n",
    "# Some of them are a bit advanced. But Google helps a lot if you are curious.\n",
    "# Let's try some...\n",
    "\n",
    "# Basic arithmetic operations\n",
    "print(abs(-42))           # __abs__\n",
    "print(42 + 5)             # __add__\n",
    "print(42 - 5)             # __sub__\n",
    "print(42 * 5)             # __mul__\n",
    "print(42 ** 5)            # __pow__\n",
    "print(42 / 5)             # __truediv__      a.k.a. true division\n",
    "print(42 // 5)            # __floordiv__     a.k.a. integer division"
   ]
  },
  {
   "cell_type": "code",
   "execution_count": null,
   "metadata": {
    "collapsed": true
   },
   "outputs": [],
   "source": [
    "# Basic comparison operators\n",
    "print(42 > 5)             # __gt__\n",
    "print(42 >= 5)            # __ge__\n",
    "print(42 < 5)             # __lt__\n",
    "print(42 <= 5)            # __le__\n",
    "print(42 == 5)            # __eq__\n",
    "print(42 != 5)            # __ne__"
   ]
  },
  {
   "cell_type": "code",
   "execution_count": null,
   "metadata": {
    "collapsed": true
   },
   "outputs": [],
   "source": [
    "# Some type conversion\n",
    "print(bool(0), bool(42))  # __bool__         convert to boolean\n",
    "\n",
    "print(int(-42))           # __int__          convert to int (redundant for integer numbers)\n",
    "print(float(-42))         # __float__        convert to float\n",
    "print(str(-42))           # __str__          convert to string\n",
    "\n",
    "print(-42)                # __str__ is implicitly called by print()"
   ]
  },
  {
   "cell_type": "code",
   "execution_count": null,
   "metadata": {
    "collapsed": true
   },
   "outputs": [],
   "source": [
    "# Calling some methods\n",
    "i = 42\n",
    "print(i.numerator, i.denominator)"
   ]
  },
  {
   "cell_type": "markdown",
   "metadata": {},
   "source": [
    "**In Python, unlike other languages, integers have virtually infinite precision.**"
   ]
  },
  {
   "cell_type": "code",
   "execution_count": null,
   "metadata": {},
   "outputs": [],
   "source": [
    "2**63-1  # This is the maximum integer number supported by most programming languages on 64-bit systems."
   ]
  },
  {
   "cell_type": "code",
   "execution_count": null,
   "metadata": {},
   "outputs": [],
   "source": [
    "2**128  # In Python integers have virtually infinite precision.\n",
    "        # The only limitation is given by how much RAM memory\n",
    "        # you have installed on your machine."
   ]
  },
  {
   "cell_type": "code",
   "execution_count": null,
   "metadata": {},
   "outputs": [],
   "source": [
    "2**512"
   ]
  },
  {
   "cell_type": "code",
   "execution_count": null,
   "metadata": {},
   "outputs": [],
   "source": [
    "2**1024"
   ]
  },
  {
   "cell_type": "markdown",
   "metadata": {},
   "source": [
    "## The `float` type"
   ]
  },
  {
   "cell_type": "code",
   "execution_count": null,
   "metadata": {
    "collapsed": true
   },
   "outputs": [],
   "source": [
    "3.14  # Just another number"
   ]
  },
  {
   "cell_type": "code",
   "execution_count": null,
   "metadata": {
    "collapsed": true
   },
   "outputs": [],
   "source": [
    "type(3.14)  # What's the type of 3.14?"
   ]
  },
  {
   "cell_type": "code",
   "execution_count": null,
   "metadata": {
    "collapsed": true
   },
   "outputs": [],
   "source": [
    "print(type(3.14))  # Yep! In Python everything is an object!"
   ]
  },
  {
   "cell_type": "code",
   "execution_count": null,
   "metadata": {
    "collapsed": true
   },
   "outputs": [],
   "source": [
    "c = 3.14\n",
    "print(c)"
   ]
  },
  {
   "cell_type": "code",
   "execution_count": null,
   "metadata": {
    "collapsed": true
   },
   "outputs": [],
   "source": [
    "print(dir(c))"
   ]
  },
  {
   "cell_type": "code",
   "execution_count": null,
   "metadata": {
    "collapsed": true
   },
   "outputs": [],
   "source": [
    "# So, what's all that?\n",
    "# Those __XXX__ are called Python's magic methods.\n",
    "# Some of them are a bit advanced. But Google helps a lot if you are curious.\n",
    "# Let's try some...\n",
    "\n",
    "# Basic arithmetic operations\n",
    "print(abs(-3.14))             # __abs__\n",
    "print(3.14 + 5)               # __add__\n",
    "print(3.14 - 5)               # __sub__\n",
    "print(3.14 * 5)               # __mul__\n",
    "print(3.14 ** 5)              # __pow__\n",
    "print(3.14 / 5)               # __truediv__      a.k.a. true division\n",
    "print(3.14 // 5)              # __floordiv__     a.k.a. integer division"
   ]
  },
  {
   "cell_type": "code",
   "execution_count": null,
   "metadata": {
    "collapsed": true
   },
   "outputs": [],
   "source": [
    "# Basic comparison operators\n",
    "print(3.14 > 5)               # __gt__\n",
    "print(3.14 >= 5)              # __ge__\n",
    "print(3.14 < 5)               # __lt__\n",
    "print(3.14 <= 5)              # __le__\n",
    "print(3.14 == 5)              # __eq__\n",
    "print(3.14 != 5)              # __ne__"
   ]
  },
  {
   "cell_type": "code",
   "execution_count": null,
   "metadata": {
    "collapsed": true
   },
   "outputs": [],
   "source": [
    "# Some type conversion\n",
    "print(bool(0.0), bool(3.14))  # __bool__         convert to boolean\n",
    "\n",
    "print(int(-3.14))             # __int__          convert to int\n",
    "print(float(-3.14))           # __float__        convert to float (redundant for float numbers)\n",
    "print(str(-3.14))             # __str__          convert to string\n",
    "\n",
    "print(-3.14)                  # __str__ is implicitly called by print()"
   ]
  },
  {
   "cell_type": "code",
   "execution_count": null,
   "metadata": {
    "collapsed": true
   },
   "outputs": [],
   "source": [
    "# Calling some methods\n",
    "x = 3.14\n",
    "y = 5.0\n",
    "print(x.is_integer())         # Is 3.14 == int(3.14)?\n",
    "print(y.is_integer())         # Is 5.0 == int(5.0)?\n",
    "\n",
    "print(x.as_integer_ratio())\n",
    "print(y.as_integer_ratio())"
   ]
  },
  {
   "cell_type": "markdown",
   "metadata": {},
   "source": [
    "## The `str` type"
   ]
  },
  {
   "cell_type": "code",
   "execution_count": null,
   "metadata": {
    "collapsed": true
   },
   "outputs": [],
   "source": [
    "'Hello'  # A sequence of characters.\n",
    "         # You could use \"Hello\", '''Hello''' or \"\"\"Hello\"\"\".\n",
    "         # Any of those forms is valid in Python, but don't mix them. Be consistent!"
   ]
  },
  {
   "cell_type": "code",
   "execution_count": null,
   "metadata": {
    "collapsed": true
   },
   "outputs": [],
   "source": [
    "type('Hello')  # What's the type of 'Hello'?"
   ]
  },
  {
   "cell_type": "code",
   "execution_count": null,
   "metadata": {
    "collapsed": true
   },
   "outputs": [],
   "source": [
    "print(type('Hello'))  # I told ya! :-p"
   ]
  },
  {
   "cell_type": "code",
   "execution_count": null,
   "metadata": {
    "collapsed": true
   },
   "outputs": [],
   "source": [
    "s = 'Hello'\n",
    "print(s)"
   ]
  },
  {
   "cell_type": "code",
   "execution_count": null,
   "metadata": {
    "collapsed": true
   },
   "outputs": [],
   "source": [
    "print(dir(s))"
   ]
  },
  {
   "cell_type": "code",
   "execution_count": null,
   "metadata": {
    "collapsed": true
   },
   "outputs": [],
   "source": [
    "# So, what's all that?\n",
    "# Those __XXX__ are called Python's magic methods.\n",
    "# Some of them are a bit advanced. But Google helps a lot if you are curious.\n",
    "# Let's try some...\n",
    "\n",
    "# Basic string operations\n",
    "print('Hello' + 'World')           # __add__\n",
    "print('Hello' + 'World' + str(5))  # __add__\n",
    "print('Hello' * 5)                 # __mul__"
   ]
  },
  {
   "cell_type": "code",
   "execution_count": null,
   "metadata": {
    "collapsed": true
   },
   "outputs": [],
   "source": [
    "# What's the length of the string\n",
    "print(len('Hello'))                # __len__"
   ]
  },
  {
   "cell_type": "code",
   "execution_count": null,
   "metadata": {
    "collapsed": true
   },
   "outputs": [],
   "source": [
    "# Comparing the length of strings\n",
    "print(len('Hello') > len('Hi'))    # __gt__\n",
    "print(len('Hello') >= len('Hi'))   # __ge__\n",
    "print(len('Hello') < len('Hi'))    # __lt__\n",
    "print(len('Hello') <= len('Hi'))   # __le__\n",
    "print(len('Hello') == len('Hi'))   # __eq__\n",
    "print(len('Hello') != len('Hi'))   # __ne__"
   ]
  },
  {
   "cell_type": "code",
   "execution_count": null,
   "metadata": {
    "collapsed": true
   },
   "outputs": [],
   "source": [
    "# Comparing the content of strings\n",
    "print('Hello' == 'Hi')             # __eq__\n",
    "print('Hello' == 'Hello')          # __eq__\n",
    "print('Hello' != 'Hi')             # __ne__\n",
    "print('Hello' != 'Hello')          # __ne__"
   ]
  },
  {
   "cell_type": "code",
   "execution_count": null,
   "metadata": {
    "collapsed": true
   },
   "outputs": [],
   "source": [
    "# Some type conversion\n",
    "print(bool(''), bool('Hello'))     # __bool__         convert to boolean\n",
    "\n",
    "# print(int('Hello'))              # No str to int conversion. Make sense!\n",
    "# print(float('Hello'))            # Same here. No str to float conversion.\n",
    "print(str('Hello'))                # __str__          convert to string (redundant for strings, however...)\n",
    "\n",
    "print('Hello')                     # __str__ is implicitly called by print() (even if you are passing a string)"
   ]
  },
  {
   "cell_type": "code",
   "execution_count": null,
   "metadata": {
    "collapsed": true
   },
   "outputs": [],
   "source": [
    "# Calling some methods\n",
    "s1 = 'hello'\n",
    "s2 = 'WORLD!!!'\n",
    "print(s1 + ' ' + s2)               # concatenate two or more strings\n",
    "print(' '.join([s1, s2]))          # concatenate two or more strings (faster if you have lots of strings)\n",
    "print(s1, '-->', s1.upper())\n",
    "print(s1, '-->', s1.capitalize())\n",
    "print(s2, '-->', s2.lower())\n",
    "print(s2, '-->', s2.capitalize())"
   ]
  },
  {
   "cell_type": "markdown",
   "metadata": {},
   "source": [
    "## Variable Assignments\n",
    "\n",
    "A name that's used to denote something is called a variable.  \n",
    "A value (or anything) can be assigned to a variable.  \n",
    "A variable name just point to a value. Like an alias.  \n",
    "A variable has no type. You can redefine it.  \n",
    "A value has a type."
   ]
  },
  {
   "cell_type": "code",
   "execution_count": null,
   "metadata": {
    "collapsed": true
   },
   "outputs": [],
   "source": [
    "x = 42\n",
    "y = 3.14\n",
    "z = 'Hello World!'\n",
    "\n",
    "x = 5.3\n",
    "y = 7"
   ]
  },
  {
   "cell_type": "code",
   "execution_count": null,
   "metadata": {
    "collapsed": true
   },
   "outputs": [],
   "source": [
    "# Let's print their values\n",
    "print(x, y, z)"
   ]
  },
  {
   "cell_type": "markdown",
   "metadata": {},
   "source": [
    "## Multiple Assignments"
   ]
  },
  {
   "cell_type": "code",
   "execution_count": null,
   "metadata": {
    "collapsed": true
   },
   "outputs": [],
   "source": [
    "# Varibles can be assigned with the same value...\n",
    "\n",
    "x = y = z = 5\n",
    "\n",
    "print(x)\n",
    "print(y)\n",
    "print(z)"
   ]
  },
  {
   "cell_type": "code",
   "execution_count": null,
   "metadata": {
    "collapsed": true
   },
   "outputs": [],
   "source": [
    "# ...or with multiple values of any type\n",
    "\n",
    "x, y, z, w = 1, 1+2j, 3.14, \"Hi there!\"\n",
    "\n",
    "print(x, type(x))\n",
    "print(y, type(y))  # y is a complex number. In Python it's represented like 1+2j, instead of 1+2i, as in traditional math.\n",
    "print(z, type(z))\n",
    "print(w, type(w))"
   ]
  },
  {
   "cell_type": "markdown",
   "metadata": {},
   "source": [
    "## Swapping values of 2 variables"
   ]
  },
  {
   "cell_type": "code",
   "execution_count": null,
   "metadata": {
    "collapsed": true
   },
   "outputs": [],
   "source": [
    "a, b = 42, 3.14\n",
    "print(a, b)\n",
    "\n",
    "b, a = a, b\n",
    "print(a, b)"
   ]
  },
  {
   "cell_type": "code",
   "execution_count": null,
   "metadata": {
    "collapsed": true
   },
   "outputs": [],
   "source": [
    "# It works with 3 variables too! Or 4, or 5, or 6... :-)\n",
    "\n",
    "a, b, c = 1, 2, 3\n",
    "print(a, b, c)\n",
    "\n",
    "b, c, a = a, b, c\n",
    "print(a, b, c)"
   ]
  },
  {
   "cell_type": "markdown",
   "metadata": {},
   "source": [
    "## What will be the output of the following code?"
   ]
  },
  {
   "cell_type": "code",
   "execution_count": null,
   "metadata": {
    "collapsed": true
   },
   "outputs": [],
   "source": [
    "x = 5\n",
    "y = x + 4\n",
    "x = 2\n",
    "print(x, y)"
   ]
  },
  {
   "cell_type": "code",
   "execution_count": null,
   "metadata": {
    "collapsed": true
   },
   "outputs": [],
   "source": [
    "x, y = 2, 3\n",
    "x, y = y, x + 4\n",
    "print(x, y)"
   ]
  },
  {
   "cell_type": "code",
   "execution_count": null,
   "metadata": {
    "collapsed": true
   },
   "outputs": [],
   "source": [
    "a, b = 2, 3 \n",
    "c, b = a, c + 4\n",
    "print(a, b, c)"
   ]
  }
 ],
 "metadata": {
  "kernelspec": {
   "display_name": "Python 3",
   "language": "python",
   "name": "python3"
  },
  "language_info": {
   "codemirror_mode": {
    "name": "ipython",
    "version": 3
   },
   "file_extension": ".py",
   "mimetype": "text/x-python",
   "name": "python",
   "nbconvert_exporter": "python",
   "pygments_lexer": "ipython3",
   "version": "3.6.1"
  }
 },
 "nbformat": 4,
 "nbformat_minor": 2
}
