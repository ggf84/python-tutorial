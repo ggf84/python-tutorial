{
 "cells": [
  {
   "cell_type": "markdown",
   "metadata": {},
   "source": [
    "# Built-in Data Types\n",
    "\n",
    "Python has built-in support for a number of data types, like **`bool`**ean, **`int`**eger, **`float`** and **`complex`** numbers, as well as **`str`**ings.  \n",
    "Here we'll show a few examples of how to use them."
   ]
  },
  {
   "cell_type": "markdown",
   "metadata": {},
   "source": [
    "## The `bool` type\n",
    "\n",
    "Boolean values are used to represent truth values. Booleans can have only two values: `True` or `False`."
   ]
  },
  {
   "cell_type": "code",
   "execution_count": null,
   "metadata": {},
   "outputs": [],
   "source": [
    "type(True)"
   ]
  },
  {
   "cell_type": "code",
   "execution_count": null,
   "metadata": {},
   "outputs": [],
   "source": [
    "type(False)"
   ]
  },
  {
   "cell_type": "markdown",
   "metadata": {},
   "source": [
    "Comparing things returns `bool`eans"
   ]
  },
  {
   "cell_type": "code",
   "execution_count": null,
   "metadata": {},
   "outputs": [],
   "source": [
    "True == True"
   ]
  },
  {
   "cell_type": "code",
   "execution_count": null,
   "metadata": {},
   "outputs": [],
   "source": [
    "True == False"
   ]
  },
  {
   "cell_type": "code",
   "execution_count": null,
   "metadata": {},
   "outputs": [],
   "source": [
    "False == False"
   ]
  },
  {
   "cell_type": "code",
   "execution_count": null,
   "metadata": {},
   "outputs": [],
   "source": [
    "5 == 5"
   ]
  },
  {
   "cell_type": "code",
   "execution_count": null,
   "metadata": {},
   "outputs": [],
   "source": [
    "5 == 7"
   ]
  },
  {
   "cell_type": "code",
   "execution_count": null,
   "metadata": {},
   "outputs": [],
   "source": [
    "5 != 7"
   ]
  },
  {
   "cell_type": "code",
   "execution_count": null,
   "metadata": {},
   "outputs": [],
   "source": [
    "5 > 3"
   ]
  },
  {
   "cell_type": "code",
   "execution_count": null,
   "metadata": {},
   "outputs": [],
   "source": [
    "-1 < 0"
   ]
  },
  {
   "cell_type": "code",
   "execution_count": null,
   "metadata": {},
   "outputs": [],
   "source": [
    "1 > 0"
   ]
  },
  {
   "cell_type": "code",
   "execution_count": null,
   "metadata": {},
   "outputs": [],
   "source": [
    "3.1416 > 2.7183"
   ]
  },
  {
   "cell_type": "code",
   "execution_count": null,
   "metadata": {},
   "outputs": [],
   "source": [
    "3.1416 <= 2.7183"
   ]
  },
  {
   "cell_type": "code",
   "execution_count": null,
   "metadata": {},
   "outputs": [],
   "source": [
    "'Hello!' != 'Hello!'"
   ]
  },
  {
   "cell_type": "code",
   "execution_count": null,
   "metadata": {},
   "outputs": [],
   "source": [
    "'Hi!' != 'Hello!'"
   ]
  },
  {
   "cell_type": "code",
   "execution_count": null,
   "metadata": {},
   "outputs": [],
   "source": [
    "[1, 2, 3] == [1, 2, 3]"
   ]
  },
  {
   "cell_type": "code",
   "execution_count": null,
   "metadata": {},
   "outputs": [],
   "source": [
    "[1, 2, 3] == [4, 5]"
   ]
  },
  {
   "cell_type": "markdown",
   "metadata": {},
   "source": [
    "The result of a comparison can be stored in a variable and we can use it to do other things"
   ]
  },
  {
   "cell_type": "code",
   "execution_count": null,
   "metadata": {},
   "outputs": [],
   "source": [
    "x = 5 == 7\n",
    "y = 3 != 0\n",
    "\n",
    "print(x, y)"
   ]
  },
  {
   "cell_type": "code",
   "execution_count": null,
   "metadata": {},
   "outputs": [],
   "source": [
    "z = x or y  # Either x or y is True? Yes!\n",
    "\n",
    "print(z)"
   ]
  },
  {
   "cell_type": "code",
   "execution_count": null,
   "metadata": {},
   "outputs": [],
   "source": [
    "z = x and y  # Both x and y are True? No!\n",
    "\n",
    "print(z)"
   ]
  },
  {
   "cell_type": "code",
   "execution_count": null,
   "metadata": {},
   "outputs": [],
   "source": [
    "# **Attention, please!**\n",
    "\n",
    "myvar = 5   # Points myvar to object 5\n",
    "myvar == 3  # Check if myvar is equal to 3"
   ]
  },
  {
   "cell_type": "code",
   "execution_count": null,
   "metadata": {
    "collapsed": true
   },
   "outputs": [],
   "source": [
    "# **Attention, please!**\n",
    "\n",
    "x = type(True)     # Here x points to bool\n",
    "y = type(\"True\")   # Here y points to str\n",
    "# z = type(true)   # This would be an error!"
   ]
  },
  {
   "cell_type": "markdown",
   "metadata": {},
   "source": [
    "In Python anything can be converted to a boolean"
   ]
  },
  {
   "cell_type": "code",
   "execution_count": null,
   "metadata": {},
   "outputs": [],
   "source": [
    "bool(True)  # Duh!"
   ]
  },
  {
   "cell_type": "code",
   "execution_count": null,
   "metadata": {},
   "outputs": [],
   "source": [
    "bool(False)  # Duh!"
   ]
  },
  {
   "cell_type": "code",
   "execution_count": null,
   "metadata": {},
   "outputs": [],
   "source": [
    "bool(0)"
   ]
  },
  {
   "cell_type": "code",
   "execution_count": null,
   "metadata": {},
   "outputs": [],
   "source": [
    "bool(5)"
   ]
  },
  {
   "cell_type": "code",
   "execution_count": null,
   "metadata": {},
   "outputs": [],
   "source": [
    "bool(-15)"
   ]
  },
  {
   "cell_type": "code",
   "execution_count": null,
   "metadata": {},
   "outputs": [],
   "source": [
    "bool(0.0)"
   ]
  },
  {
   "cell_type": "code",
   "execution_count": null,
   "metadata": {},
   "outputs": [],
   "source": [
    "bool(3.1416)"
   ]
  },
  {
   "cell_type": "code",
   "execution_count": null,
   "metadata": {},
   "outputs": [],
   "source": [
    "bool('')  # Is there anything in this string? No!"
   ]
  },
  {
   "cell_type": "code",
   "execution_count": null,
   "metadata": {},
   "outputs": [],
   "source": [
    "bool('Hello')  # Is there anything in this string? Yes!"
   ]
  },
  {
   "cell_type": "code",
   "execution_count": null,
   "metadata": {},
   "outputs": [],
   "source": [
    "bool([])  # Is there anything in this list? No!"
   ]
  },
  {
   "cell_type": "code",
   "execution_count": null,
   "metadata": {},
   "outputs": [],
   "source": [
    "bool([1, 2, 3])  # Is there anything in this list? Yes!"
   ]
  },
  {
   "cell_type": "code",
   "execution_count": null,
   "metadata": {},
   "outputs": [],
   "source": [
    "bool(print)  # Even a function can be converted to a boolean.\n",
    "             # But why would you do that?\n",
    "             # Well, Python gives you the power!\n",
    "             # You just have to learn how to use it! ;-)"
   ]
  },
  {
   "cell_type": "markdown",
   "metadata": {},
   "source": [
    "Please uncomment the first line below to see the docummentation for the `bool` type."
   ]
  },
  {
   "cell_type": "code",
   "execution_count": null,
   "metadata": {
    "scrolled": true
   },
   "outputs": [],
   "source": [
    "# help(bool)\n",
    "\n",
    "# Note how a bool is defined as a special case of an int,\n",
    "# which, in such case, can have only two possible values,\n",
    "# 1 or 0, i.e., True or False."
   ]
  },
  {
   "cell_type": "markdown",
   "metadata": {},
   "source": [
    "## The `int` type\n",
    "\n",
    "Interger numbers are implemented in Python by the `int` type. Unlike other programming languages, in Python integers have virtually infinite precision."
   ]
  },
  {
   "cell_type": "code",
   "execution_count": null,
   "metadata": {},
   "outputs": [],
   "source": [
    "type(42)"
   ]
  },
  {
   "cell_type": "code",
   "execution_count": null,
   "metadata": {},
   "outputs": [],
   "source": [
    "b = 42\n",
    "\n",
    "print(b)"
   ]
  },
  {
   "cell_type": "markdown",
   "metadata": {},
   "source": [
    "What operations are supported by an `int`?"
   ]
  },
  {
   "cell_type": "code",
   "execution_count": null,
   "metadata": {},
   "outputs": [],
   "source": [
    "print(dir(int))"
   ]
  },
  {
   "cell_type": "markdown",
   "metadata": {},
   "source": [
    "Those '\\__xxx\\__' methods are called Python's magic methods.\n",
    "\n",
    "They are magic in the sense that Python will call them implicitly when you use the corresponding operator.\n",
    "\n",
    "Some those methods are a bit advanced, though, and we'll leave it as an exercise to you to learn how to use them.\n",
    "\n",
    "Let's begin with the basic arithmetic operations."
   ]
  },
  {
   "cell_type": "markdown",
   "metadata": {},
   "source": [
    "#### Basic arithmetic operators\n",
    "\n",
    "|operator |method|meaning|\n",
    "|--|------|------|-------|\n",
    "|+ |\\__add\\__|addition|\n",
    "|- |\\__sub\\__|subtraction|\n",
    "|* |\\__mul\\__|multiplication|\n",
    "|/ |\\__truediv\\__|division|\n",
    "|% |\\__mod\\__|remainder after division|\n",
    "|//|\\__floordiv\\__|truncated division|\n",
    "|\\**|\\__pow\\__|to the power of|"
   ]
  },
  {
   "cell_type": "code",
   "execution_count": null,
   "metadata": {},
   "outputs": [],
   "source": [
    "print('+\\t', 29 + 3)\n",
    "print('-\\t', 29 - 3)\n",
    "print('*\\t', 29 * 3)\n",
    "print('/\\t', 29 / 3)\n",
    "print('%\\t', 29 % 3)\n",
    "print('//\\t', 29 // 3)\n",
    "print('**\\t', 29 ** 3)"
   ]
  },
  {
   "cell_type": "markdown",
   "metadata": {
    "collapsed": true
   },
   "source": [
    "#### Basic comparison operators\n",
    "\n",
    "|operator |method|meaning|\n",
    "|--|------|------|-------|\n",
    "|== |\\__eq\\__|is equal to|\n",
    "|!=|\\__ne\\__|is not equal to|\n",
    "|< |\\__lt\\__|is less than|\n",
    "|> |\\__gt\\__|is greater than|\n",
    "|<= |\\__le\\__|is less than or equal to|\n",
    "|>= |\\__ge\\__|is greater than or equal to|"
   ]
  },
  {
   "cell_type": "code",
   "execution_count": null,
   "metadata": {},
   "outputs": [],
   "source": [
    "print('==\\t', 1 == 2)\n",
    "print('!=\\t', 1 != 2)\n",
    "print('<\\t', 1 < 2)\n",
    "print('>\\t', 1 > 2)\n",
    "print('<=\\t', 1 <= 2)\n",
    "print('>=\\t', 1 >= 2)"
   ]
  },
  {
   "cell_type": "markdown",
   "metadata": {},
   "source": [
    "#### Conversions to and from an `int`"
   ]
  },
  {
   "cell_type": "code",
   "execution_count": null,
   "metadata": {
    "scrolled": true
   },
   "outputs": [],
   "source": [
    "print(int(42))           # __int__          int to int (Duh!)\n",
    "\n",
    "print(bool(42))          # __bool__         int to bool\n",
    "print(int(True))         # __int__          bool to int\n",
    "\n",
    "print(int(3.14))         # __int__          float to int\n",
    "print(float(42))         # __float__        int to float\n",
    "\n",
    "print(str(42))           # __str__          int to str\n",
    "# print(int(\"Hi!\"))      # ERROR!!!         str to int is not supported!\n",
    "\n",
    "print(42)                # __str__ is implicitly called by print()"
   ]
  },
  {
   "cell_type": "markdown",
   "metadata": {
    "collapsed": true
   },
   "source": [
    "#### Calling some methods\n"
   ]
  },
  {
   "cell_type": "code",
   "execution_count": null,
   "metadata": {},
   "outputs": [],
   "source": [
    "i = 42\n",
    "print(i.real, i.imag)\n",
    "print(i.numerator, i.denominator)\n",
    "\n"
   ]
  },
  {
   "cell_type": "code",
   "execution_count": null,
   "metadata": {},
   "outputs": [],
   "source": [
    "i = 2**63-1     # On 64-bit systems, this is the maximum integer number allowed on most programming languages.\n",
    "print(i)"
   ]
  },
  {
   "cell_type": "code",
   "execution_count": null,
   "metadata": {},
   "outputs": [],
   "source": [
    "i.bit_length()  # Number of bits necessary to represent it in binary.\n",
    "                # The extra bit is for the sign, so 1+63 == 64-bits."
   ]
  },
  {
   "cell_type": "code",
   "execution_count": null,
   "metadata": {},
   "outputs": [],
   "source": [
    "i = 111**222    # In Python integers have virtually infinite precision.\n",
    "print(i)"
   ]
  },
  {
   "cell_type": "code",
   "execution_count": null,
   "metadata": {},
   "outputs": [],
   "source": [
    "i.bit_length()  # Integer numbers are implemented in software. That's why it's\n",
    "                # possible to have very very large ints. The only limitation is\n",
    "                # given by how much RAM memory you have installed on your machine."
   ]
  },
  {
   "cell_type": "markdown",
   "metadata": {},
   "source": [
    "Please uncomment the line below to see the docummentation for the `int` type."
   ]
  },
  {
   "cell_type": "code",
   "execution_count": null,
   "metadata": {
    "collapsed": true,
    "scrolled": true
   },
   "outputs": [],
   "source": [
    "# help(int)"
   ]
  },
  {
   "cell_type": "markdown",
   "metadata": {},
   "source": [
    "## The `float` type"
   ]
  },
  {
   "cell_type": "code",
   "execution_count": null,
   "metadata": {
    "collapsed": true
   },
   "outputs": [],
   "source": [
    "3.14  # Just another number"
   ]
  },
  {
   "cell_type": "code",
   "execution_count": null,
   "metadata": {
    "collapsed": true
   },
   "outputs": [],
   "source": [
    "type(3.14)  # What's the type of 3.14?"
   ]
  },
  {
   "cell_type": "code",
   "execution_count": null,
   "metadata": {
    "collapsed": true
   },
   "outputs": [],
   "source": [
    "print(type(3.14))  # Yep! In Python everything is an object!"
   ]
  },
  {
   "cell_type": "code",
   "execution_count": null,
   "metadata": {
    "collapsed": true
   },
   "outputs": [],
   "source": [
    "c = 3.14\n",
    "print(c)"
   ]
  },
  {
   "cell_type": "code",
   "execution_count": null,
   "metadata": {
    "collapsed": true
   },
   "outputs": [],
   "source": [
    "print(dir(c))"
   ]
  },
  {
   "cell_type": "code",
   "execution_count": null,
   "metadata": {
    "collapsed": true
   },
   "outputs": [],
   "source": [
    "# So, what's all that?\n",
    "# Those __XXX__ are called Python's magic methods.\n",
    "# Some of them are a bit advanced. But Google helps a lot if you are curious.\n",
    "# Let's try some...\n",
    "\n",
    "# Basic arithmetic operations\n",
    "print(abs(-3.14))             # __abs__\n",
    "print(3.14 + 5)               # __add__\n",
    "print(3.14 - 5)               # __sub__\n",
    "print(3.14 * 5)               # __mul__\n",
    "print(3.14 ** 5)              # __pow__\n",
    "print(3.14 / 5)               # __truediv__      a.k.a. true division\n",
    "print(3.14 // 5)              # __floordiv__     a.k.a. integer division"
   ]
  },
  {
   "cell_type": "code",
   "execution_count": null,
   "metadata": {
    "collapsed": true
   },
   "outputs": [],
   "source": [
    "# Basic comparison operators\n",
    "print(3.14 > 5)               # __gt__\n",
    "print(3.14 >= 5)              # __ge__\n",
    "print(3.14 < 5)               # __lt__\n",
    "print(3.14 <= 5)              # __le__\n",
    "print(3.14 == 5)              # __eq__\n",
    "print(3.14 != 5)              # __ne__"
   ]
  },
  {
   "cell_type": "code",
   "execution_count": null,
   "metadata": {
    "collapsed": true
   },
   "outputs": [],
   "source": [
    "# Some type conversion\n",
    "print(bool(0.0), bool(3.14))  # __bool__         convert to boolean\n",
    "\n",
    "print(int(-3.14))             # __int__          convert to int\n",
    "print(float(-3.14))           # __float__        convert to float (redundant for float numbers)\n",
    "print(str(-3.14))             # __str__          convert to string\n",
    "\n",
    "print(-3.14)                  # __str__ is implicitly called by print()"
   ]
  },
  {
   "cell_type": "code",
   "execution_count": null,
   "metadata": {
    "collapsed": true
   },
   "outputs": [],
   "source": [
    "# Calling some methods\n",
    "x = 3.14\n",
    "y = 5.0\n",
    "print(x.is_integer())         # Is 3.14 == int(3.14)?\n",
    "print(y.is_integer())         # Is 5.0 == int(5.0)?\n",
    "\n",
    "print(x.as_integer_ratio())\n",
    "print(y.as_integer_ratio())"
   ]
  },
  {
   "cell_type": "markdown",
   "metadata": {},
   "source": [
    "## The `complex` type"
   ]
  },
  {
   "cell_type": "markdown",
   "metadata": {},
   "source": [
    "TODO"
   ]
  },
  {
   "cell_type": "markdown",
   "metadata": {},
   "source": [
    "## The `str` type"
   ]
  },
  {
   "cell_type": "code",
   "execution_count": null,
   "metadata": {
    "collapsed": true
   },
   "outputs": [],
   "source": [
    "'Hello'  # A sequence of characters.\n",
    "         # You could use \"Hello\", '''Hello''' or \"\"\"Hello\"\"\".\n",
    "         # Any of those forms is valid in Python, but don't mix them. Be consistent!"
   ]
  },
  {
   "cell_type": "code",
   "execution_count": null,
   "metadata": {
    "collapsed": true
   },
   "outputs": [],
   "source": [
    "type('Hello')  # What's the type of 'Hello'?"
   ]
  },
  {
   "cell_type": "code",
   "execution_count": null,
   "metadata": {
    "collapsed": true
   },
   "outputs": [],
   "source": [
    "print(type('Hello'))  # I told ya! :-p"
   ]
  },
  {
   "cell_type": "code",
   "execution_count": null,
   "metadata": {
    "collapsed": true
   },
   "outputs": [],
   "source": [
    "s = 'Hello'\n",
    "print(s)"
   ]
  },
  {
   "cell_type": "code",
   "execution_count": null,
   "metadata": {
    "collapsed": true
   },
   "outputs": [],
   "source": [
    "print(dir(s))"
   ]
  },
  {
   "cell_type": "code",
   "execution_count": null,
   "metadata": {
    "collapsed": true
   },
   "outputs": [],
   "source": [
    "# So, what's all that?\n",
    "# Those __XXX__ are called Python's magic methods.\n",
    "# Some of them are a bit advanced. But Google helps a lot if you are curious.\n",
    "# Let's try some...\n",
    "\n",
    "# Basic string operations\n",
    "print('Hello' + 'World')           # __add__\n",
    "print('Hello' + 'World' + str(5))  # __add__\n",
    "print('Hello' * 5)                 # __mul__"
   ]
  },
  {
   "cell_type": "code",
   "execution_count": null,
   "metadata": {
    "collapsed": true
   },
   "outputs": [],
   "source": [
    "# What's the length of the string\n",
    "print(len('Hello'))                # __len__"
   ]
  },
  {
   "cell_type": "code",
   "execution_count": null,
   "metadata": {
    "collapsed": true
   },
   "outputs": [],
   "source": [
    "# Comparing the length of strings\n",
    "print(len('Hello') > len('Hi'))    # __gt__\n",
    "print(len('Hello') >= len('Hi'))   # __ge__\n",
    "print(len('Hello') < len('Hi'))    # __lt__\n",
    "print(len('Hello') <= len('Hi'))   # __le__\n",
    "print(len('Hello') == len('Hi'))   # __eq__\n",
    "print(len('Hello') != len('Hi'))   # __ne__"
   ]
  },
  {
   "cell_type": "code",
   "execution_count": null,
   "metadata": {
    "collapsed": true
   },
   "outputs": [],
   "source": [
    "# Comparing the content of strings\n",
    "print('Hello' == 'Hi')             # __eq__\n",
    "print('Hello' == 'Hello')          # __eq__\n",
    "print('Hello' != 'Hi')             # __ne__\n",
    "print('Hello' != 'Hello')          # __ne__"
   ]
  },
  {
   "cell_type": "code",
   "execution_count": null,
   "metadata": {
    "collapsed": true
   },
   "outputs": [],
   "source": [
    "# Some type conversion\n",
    "print(bool(''), bool('Hello'))     # __bool__         convert to boolean\n",
    "\n",
    "# print(int('Hello'))              # No str to int conversion. Make sense!\n",
    "# print(float('Hello'))            # Same here. No str to float conversion.\n",
    "print(str('Hello'))                # __str__          convert to string (redundant for strings, however...)\n",
    "\n",
    "print('Hello')                     # __str__ is implicitly called by print() (even if you are passing a string)"
   ]
  },
  {
   "cell_type": "code",
   "execution_count": null,
   "metadata": {
    "collapsed": true
   },
   "outputs": [],
   "source": [
    "# Calling some methods\n",
    "s1 = 'hello'\n",
    "s2 = 'WORLD!!!'\n",
    "print(s1 + ' ' + s2)               # concatenate two or more strings\n",
    "print(' '.join([s1, s2]))          # concatenate two or more strings (faster if you have lots of strings)\n",
    "print(s1, '-->', s1.upper())\n",
    "print(s1, '-->', s1.capitalize())\n",
    "print(s2, '-->', s2.lower())\n",
    "print(s2, '-->', s2.capitalize())"
   ]
  }
 ],
 "metadata": {
  "kernelspec": {
   "display_name": "Python 3",
   "language": "python",
   "name": "python3"
  },
  "language_info": {
   "codemirror_mode": {
    "name": "ipython",
    "version": 3
   },
   "file_extension": ".py",
   "mimetype": "text/x-python",
   "name": "python",
   "nbconvert_exporter": "python",
   "pygments_lexer": "ipython3",
   "version": "3.6.1"
  }
 },
 "nbformat": 4,
 "nbformat_minor": 2
}
